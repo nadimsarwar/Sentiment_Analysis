{
 "cells": [
  {
   "cell_type": "markdown",
   "id": "25c8018a",
   "metadata": {},
   "source": [
    "''' Created on Tue jan 11 10:56 AM 2022\n",
    "\n",
    "@author: Md. Nadim Sarwar\n",
    "\n",
    "'''"
   ]
  },
  {
   "cell_type": "markdown",
   "id": "991a490b",
   "metadata": {},
   "source": [
    "# importing libraries"
   ]
  },
  {
   "cell_type": "code",
   "execution_count": 86,
   "id": "0173bfb9",
   "metadata": {},
   "outputs": [],
   "source": [
    "import pandas as pd\n",
    "from sklearn.feature_extraction.text import CountVectorizer\n",
    "from sklearn.ensemble import RandomForestClassifier\n",
    "from sklearn.metrics import confusion_matrix,accuracy_score\n",
    "from sklearn.metrics import classification_report"
   ]
  },
  {
   "cell_type": "markdown",
   "id": "eae3c3c4",
   "metadata": {},
   "source": [
    "# Reading data"
   ]
  },
  {
   "cell_type": "code",
   "execution_count": 87,
   "id": "cbeadc4e",
   "metadata": {},
   "outputs": [],
   "source": [
    "data = pd.read_csv('Data.csv', encoding = 'ISO-8859-1')\n",
    "# data\n",
    "# data.head(10)"
   ]
  },
  {
   "cell_type": "markdown",
   "id": "019de571",
   "metadata": {},
   "source": [
    "# Dividing into train and test"
   ]
  },
  {
   "cell_type": "code",
   "execution_count": 88,
   "id": "13576284",
   "metadata": {},
   "outputs": [],
   "source": [
    "train = data[data['Date'] < '20150101']\n",
    "# train\n",
    "\n",
    "test = data[data['Date'] > '20141231']\n",
    "# test"
   ]
  },
  {
   "cell_type": "markdown",
   "id": "12a62c95",
   "metadata": {},
   "source": [
    "# Data reshaping, cleaning and renaming"
   ]
  },
  {
   "cell_type": "code",
   "execution_count": 89,
   "id": "8bef3839",
   "metadata": {},
   "outputs": [],
   "source": [
    "data = train.iloc[:,2:27] #separating from date and Label\n",
    "# data\n",
    "\n",
    "data.replace('[^a-zA-Z]',' ',regex=True, inplace=True) # cleaning\n",
    "\n",
    "# Remane columns\n",
    "lst = [i for i in range(25)] #took number\n",
    "index = [str(i) for i in lst] #convert in into string\n",
    "data.columns = index\n",
    "# data\n"
   ]
  },
  {
   "cell_type": "markdown",
   "id": "ace67afd",
   "metadata": {},
   "source": [
    "# creating lower case"
   ]
  },
  {
   "cell_type": "code",
   "execution_count": 90,
   "id": "25a31d5e",
   "metadata": {},
   "outputs": [],
   "source": [
    "for indx in index:\n",
    "    data[indx] = data[indx].str.lower()\n",
    "# data"
   ]
  },
  {
   "cell_type": "markdown",
   "id": "6f45c9ed",
   "metadata": {},
   "source": [
    "# Converting data into headlines"
   ]
  },
  {
   "cell_type": "code",
   "execution_count": 91,
   "id": "6dbba48c",
   "metadata": {},
   "outputs": [],
   "source": [
    "headlines = []\n",
    "for row in range(0,len(data.index)):\n",
    "    headlines.append(' '.join(str(x) for x in data.iloc[row,0:25]))\n",
    "\n",
    "# headlines[0]"
   ]
  },
  {
   "cell_type": "markdown",
   "id": "dd359ed8",
   "metadata": {},
   "source": [
    "# Implementing Bag_of_Words"
   ]
  },
  {
   "cell_type": "code",
   "execution_count": 92,
   "id": "a48276d6",
   "metadata": {},
   "outputs": [],
   "source": [
    "cv = CountVectorizer(ngram_range = (2,2))\n",
    "tds = cv.fit_transform(headlines)\n",
    "# print(tds)"
   ]
  },
  {
   "cell_type": "markdown",
   "id": "4139dc21",
   "metadata": {},
   "source": [
    "# Implementing RandomForest Classifier"
   ]
  },
  {
   "cell_type": "code",
   "execution_count": 93,
   "id": "ba97411b",
   "metadata": {},
   "outputs": [
    {
     "data": {
      "text/plain": [
       "RandomForestClassifier(criterion='entropy', n_estimators=200)"
      ]
     },
     "execution_count": 93,
     "metadata": {},
     "output_type": "execute_result"
    }
   ],
   "source": [
    "rfc = RandomForestClassifier(n_estimators=200,criterion='entropy')\n",
    "rfc.fit(tds,train['Label'])"
   ]
  },
  {
   "cell_type": "markdown",
   "id": "f5039c8c",
   "metadata": {},
   "source": [
    "# Prediction for test data"
   ]
  },
  {
   "cell_type": "code",
   "execution_count": 94,
   "id": "bda044e0",
   "metadata": {},
   "outputs": [],
   "source": [
    "test_lst = []\n",
    "for row in range(0,len(test.index)):\n",
    "    test_lst.append(' '.join(str(x) for x in test.iloc[row,2:27]))\n",
    "test_ds = cv.transform(test_lst)\n",
    "pred = rfc.predict(test_ds)\n",
    "# print(pred)"
   ]
  },
  {
   "cell_type": "markdown",
   "id": "e16f4218",
   "metadata": {},
   "source": [
    "# Getting Accuracy, Confusion_matrix and Classification_report"
   ]
  },
  {
   "cell_type": "code",
   "execution_count": 96,
   "id": "646edb6b",
   "metadata": {},
   "outputs": [
    {
     "name": "stdout",
     "output_type": "stream",
     "text": [
      "0.8518518518518519\n"
     ]
    }
   ],
   "source": [
    "c_m=confusion_matrix(test['Label'],pred)\n",
    "# print(c_m)\n",
    "acc=accuracy_score(test['Label'],pred)\n",
    "print(acc)\n",
    "report=classification_report(test['Label'],pred)\n",
    "# print(report)"
   ]
  }
 ],
 "metadata": {
  "kernelspec": {
   "display_name": "Python 3 (ipykernel)",
   "language": "python",
   "name": "python3"
  },
  "language_info": {
   "codemirror_mode": {
    "name": "ipython",
    "version": 3
   },
   "file_extension": ".py",
   "mimetype": "text/x-python",
   "name": "python",
   "nbconvert_exporter": "python",
   "pygments_lexer": "ipython3",
   "version": "3.7.11"
  }
 },
 "nbformat": 4,
 "nbformat_minor": 5
}
